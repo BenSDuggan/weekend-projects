{
 "cells": [
  {
   "cell_type": "markdown",
   "id": "a03369d3",
   "metadata": {},
   "source": [
    "\n",
    "\n",
    "## Types of data\n",
    "\n",
    "* *slug*_songs.json: List of all the songs for that band. It contains metadata about the songs such as number of times played\n",
    "* *slug*_years.json: List of every year shows were played and meta data about that those shows.\n",
    "* *slug*_*year*_shows.json: Every show and source nested similarly to ReListen from that year. Placed in the *years* folder.\n",
    "\n",
    "\n",
    "* *slug*_shows.csv: Every song, for every source, for every show, for every year. It contains everything, except meta data on ???"
   ]
  },
  {
   "cell_type": "code",
   "execution_count": 1,
   "id": "3fd13cce",
   "metadata": {},
   "outputs": [],
   "source": [
    "import json\n",
    "import os\n",
    "import requests\n",
    "from pathlib import Path\n",
    "import sys\n",
    "import time\n",
    "import urllib\n",
    "\n",
    "api_url = \"https://api.relisten.net/api/v2/\"\n",
    "slug = \"grateful-dead\"\n",
    "\n",
    "# Save location\n",
    "parent_dir = \"%s_data\" % slug\n",
    "songs_file = Path(parent_dir) / (\"%s_songs.json\" % slug)\n",
    "years_file = Path(parent_dir) / (\"%s_years.json\" % slug)\n",
    "shows_dir = Path(parent_dir) / \"shows\"\n",
    "\n",
    "try:\n",
    "    os.mkdir(shows_dir)\n",
    "except:\n",
    "    pass\n",
    "    \n",
    "years = []\n",
    "shows_dict = {}\n",
    "combined_table = []\n"
   ]
  },
  {
   "cell_type": "code",
   "execution_count": 2,
   "id": "46a1bb26",
   "metadata": {},
   "outputs": [
    {
     "name": "stdout",
     "output_type": "stream",
     "text": [
      "<Response [200]>\n",
      "https://api.relisten.net/api/v2/artists/grateful-dead/songs\n",
      "557\n"
     ]
    }
   ],
   "source": [
    "# Download songs\n",
    "\n",
    "req_url = urllib.parse.urljoin(api_url, \"artists/%s/songs\"%slug)\n",
    "r = requests.get (req_url)\n",
    "print(r)\n",
    "print(r.url)\n",
    "\n",
    "parsed = json.loads(r.text)\n",
    "print(len(parsed))\n",
    "\n",
    "with open(songs_file, 'w') as f:\n",
    "    json.dump(parsed, f, indent=4)\n"
   ]
  },
  {
   "cell_type": "code",
   "execution_count": 3,
   "id": "c5a349d0",
   "metadata": {},
   "outputs": [
    {
     "name": "stdout",
     "output_type": "stream",
     "text": [
      "<Response [200]>\n",
      "https://api.relisten.net/api/v2/artists/grateful-dead/years\n",
      "31\n"
     ]
    }
   ],
   "source": [
    "# Download years\n",
    "\n",
    "req_url = urllib.parse.urljoin(api_url, \"artists/%s/years\"%slug)\n",
    "r = requests.get (req_url)\n",
    "print(r)\n",
    "print(r.url)\n",
    "\n",
    "parsed = json.loads(r.text)\n",
    "print(len(parsed))\n",
    "\n",
    "with open(years_file, 'w') as f:\n",
    "    json.dump(parsed, f, indent=4)\n",
    "\n",
    "for c in parsed:\n",
    "    years.append(int(c[\"year\"]))"
   ]
  },
  {
   "cell_type": "code",
   "execution_count": 5,
   "id": "b8bdf621",
   "metadata": {},
   "outputs": [
    {
     "name": "stdout",
     "output_type": "stream",
     "text": [
      "1965:  0.46,  0.46\n",
      "1966:  4.89,  5.35\n",
      "1967:  3.15,  8.50\n",
      "1968:  5.81, 14.30\n",
      "1969: 17.25, 31.56\n",
      "1970: 16.84, 48.40\n",
      "1971: 14.32, 62.72\n",
      "1972: 14.86, 77.58\n",
      "1973: 14.45, 92.04\n",
      "1974:  8.43, 100.47\n",
      "1975:  3.39, 103.86\n",
      "1976:  8.12, 111.97\n",
      "1977: 13.23, 125.21\n",
      "1978: 15.69, 140.90\n",
      "1979: 15.31, 156.20\n",
      "1980: 17.76, 173.96\n",
      "1981: 19.53, 193.49\n",
      "1982: 12.62, 206.11\n",
      "1983: 15.41, 221.52\n",
      "1984: 16.01, 237.53\n",
      "1985: 16.73, 254.26\n",
      "1986:  9.79, 264.05\n",
      "1987: 18.41, 282.46\n",
      "1988: 17.09, 299.55\n",
      "1989: 17.02, 316.57\n",
      "1990: 17.24, 333.81\n",
      "1991: 16.43, 350.24\n",
      "1992: 10.66, 360.90\n",
      "1993: 15.02, 375.92\n",
      "1994: 13.44, 389.36\n",
      "1995:  8.35, 397.71\n"
     ]
    }
   ],
   "source": [
    "# Get show information, broken up by year\n",
    "\n",
    "start = time.time()\n",
    "last_time = start\n",
    "for y in years:\n",
    "    print(\"%d: \" % y, end=\"\")\n",
    "    req_url = urllib.parse.urljoin(api_url, \"artists/%s/years/%d\"%(slug, y))\n",
    "    r = requests.get (req_url)\n",
    "    if r.status_code != 200:\n",
    "        print(\"Error getting data for year: %d\" % y)\n",
    "    \n",
    "    year = json.loads(r.text)\n",
    "    shows = year\n",
    "    \n",
    "    for s in range(0, len(year[\"shows\"])):\n",
    "        req_url = urllib.parse.urljoin(api_url, \"artists/%s/years/%d/%s\"%(slug, y, year[\"shows\"][s][\"display_date\"]))\n",
    "        r = requests.get (req_url)\n",
    "        if r.status_code != 200:\n",
    "            print(\"Error getting data for year: %d; show: %s\" % (y, year[\"shows\"][s][\"display_date\"]))\n",
    "            print(\"Status: %d\" % r.status_code)\n",
    "\n",
    "        show = json.loads(r.text)\n",
    "        shows[\"shows\"][s][\"sources\"] = show[\"sources\"]\n",
    "\n",
    "    with open(shows_dir / (\"%d_shows.json\"%y) , \"w\") as f:\n",
    "        #json.dump(shows, f, indent=4)\n",
    "        json.dump(shows, f)\n",
    "    \n",
    "    print(\"%5.2f, %5.2f\" % (time.time()-last_time, time.time()-start))\n",
    "    last_time = time.time()"
   ]
  },
  {
   "cell_type": "code",
   "execution_count": null,
   "id": "3dade41c",
   "metadata": {},
   "outputs": [],
   "source": [
    "# Reshape downloaded files into single table\n",
    "\n"
   ]
  }
 ],
 "metadata": {
  "kernelspec": {
   "display_name": "Python 3",
   "language": "python",
   "name": "python3"
  },
  "language_info": {
   "codemirror_mode": {
    "name": "ipython",
    "version": 3
   },
   "file_extension": ".py",
   "mimetype": "text/x-python",
   "name": "python",
   "nbconvert_exporter": "python",
   "pygments_lexer": "ipython3",
   "version": "3.9.9"
  }
 },
 "nbformat": 4,
 "nbformat_minor": 5
}
