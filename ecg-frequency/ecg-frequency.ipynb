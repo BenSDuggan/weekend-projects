{
 "cells": [
  {
   "cell_type": "markdown",
   "id": "ce53d9ad",
   "metadata": {},
   "source": [
    "# ECG Frequency\n",
    "\n",
    "This code shows why the 40 Hz used by most monitors cannot show T-wave changes."
   ]
  },
  {
   "cell_type": "code",
   "execution_count": null,
   "id": "e12bbcc5",
   "metadata": {},
   "outputs": [],
   "source": []
  }
 ],
 "metadata": {
  "kernelspec": {
   "display_name": "Python 3",
   "language": "python",
   "name": "python3"
  },
  "language_info": {
   "codemirror_mode": {
    "name": "ipython",
    "version": 3
   },
   "file_extension": ".py",
   "mimetype": "text/x-python",
   "name": "python",
   "nbconvert_exporter": "python",
   "pygments_lexer": "ipython3",
   "version": "3.11.1"
  }
 },
 "nbformat": 4,
 "nbformat_minor": 5
}
